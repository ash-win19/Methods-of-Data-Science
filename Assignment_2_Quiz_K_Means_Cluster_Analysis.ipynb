{
  "nbformat": 4,
  "nbformat_minor": 0,
  "metadata": {
    "colab": {
      "provenance": [],
      "authorship_tag": "ABX9TyNoEEGr8yqHJ5szFWbNVPj7",
      "include_colab_link": true
    },
    "kernelspec": {
      "name": "python3",
      "display_name": "Python 3"
    },
    "language_info": {
      "name": "python"
    }
  },
  "cells": [
    {
      "cell_type": "markdown",
      "metadata": {
        "id": "view-in-github",
        "colab_type": "text"
      },
      "source": [
        "<a href=\"https://colab.research.google.com/github/ash-win19/Methods-of-Data-Science/blob/main/Assignment_2_Quiz_K_Means_Cluster_Analysis.ipynb\" target=\"_parent\"><img src=\"https://colab.research.google.com/assets/colab-badge.svg\" alt=\"Open In Colab\"/></a>"
      ]
    },
    {
      "cell_type": "code",
      "execution_count": null,
      "metadata": {
        "colab": {
          "base_uri": "https://localhost:8080/"
        },
        "id": "t46VlMHG5VUv",
        "outputId": "869dcb3c-6a74-4ace-ab2c-bcc03afb70ee"
      },
      "outputs": [
        {
          "output_type": "stream",
          "name": "stdout",
          "text": [
            "(1338, 4)\n"
          ]
        }
      ],
      "source": [
        "import pandas as pd\n",
        "\n",
        "df = pd.read_csv('/content/Insurance-1.csv')\n",
        "df.head()\n",
        "dim = df.shape\n",
        "print(dim)"
      ]
    },
    {
      "cell_type": "code",
      "source": [
        "# Check null values\n",
        "print(df.isnull().sum())\n",
        "isNullPresent = df.isnull().values.any()\n",
        "print(isNullPresent)"
      ],
      "metadata": {
        "colab": {
          "base_uri": "https://localhost:8080/"
        },
        "id": "qSRpHwHA805Q",
        "outputId": "fea49f79-295c-4d3e-d31b-99fa2ddeab64"
      },
      "execution_count": null,
      "outputs": [
        {
          "output_type": "stream",
          "name": "stdout",
          "text": [
            "Age         0\n",
            "BMI         0\n",
            "Children    0\n",
            "Charges     0\n",
            "dtype: int64\n",
            "False\n"
          ]
        }
      ]
    },
    {
      "cell_type": "code",
      "source": [
        "# Find Average Patient Age\n",
        "averageAge = df['Age'].mean()\n",
        "print(round(averageAge))"
      ],
      "metadata": {
        "colab": {
          "base_uri": "https://localhost:8080/"
        },
        "id": "kNcNXfLh9TZ9",
        "outputId": "d53cf04e-3aea-493d-e575-bce4c5403a44"
      },
      "execution_count": null,
      "outputs": [
        {
          "output_type": "stream",
          "name": "stdout",
          "text": [
            "39\n"
          ]
        }
      ]
    },
    {
      "cell_type": "code",
      "source": [
        "# Find the average number of children (per patient)\n",
        "averageChildren = df['Children'].mean()\n",
        "print(round(averageChildren))"
      ],
      "metadata": {
        "colab": {
          "base_uri": "https://localhost:8080/"
        },
        "id": "gyx0rXDI91Cx",
        "outputId": "45d13a58-3753-4da2-d753-837b9a22dfd7"
      },
      "execution_count": null,
      "outputs": [
        {
          "output_type": "stream",
          "name": "stdout",
          "text": [
            "1\n"
          ]
        }
      ]
    },
    {
      "cell_type": "code",
      "source": [
        "# Find the maximum insurance cost\n",
        "maxCost = df['Charges'].max()\n",
        "print(round(maxCost))"
      ],
      "metadata": {
        "colab": {
          "base_uri": "https://localhost:8080/"
        },
        "id": "241Dnv1w-GLe",
        "outputId": "85d26bcb-68f3-4060-d754-cd8ece44de24"
      },
      "execution_count": null,
      "outputs": [
        {
          "output_type": "stream",
          "name": "stdout",
          "text": [
            "63770\n"
          ]
        }
      ]
    }
  ]
}