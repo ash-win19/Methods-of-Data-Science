{
  "nbformat": 4,
  "nbformat_minor": 0,
  "metadata": {
    "colab": {
      "provenance": [],
      "authorship_tag": "ABX9TyNPNrMsQrk5Cc6z2UZMQvnD",
      "include_colab_link": true
    },
    "kernelspec": {
      "name": "python3",
      "display_name": "Python 3"
    },
    "language_info": {
      "name": "python"
    }
  },
  "cells": [
    {
      "cell_type": "markdown",
      "metadata": {
        "id": "view-in-github",
        "colab_type": "text"
      },
      "source": [
        "<a href=\"https://colab.research.google.com/github/ash-win19/Methods-of-Data-Science/blob/main/Assignment_4_Quiz_K_Nearest_Neighbor.ipynb\" target=\"_parent\"><img src=\"https://colab.research.google.com/assets/colab-badge.svg\" alt=\"Open In Colab\"/></a>"
      ]
    },
    {
      "cell_type": "markdown",
      "source": [
        " Q1. Total number of people (patients) in the dataset"
      ],
      "metadata": {
        "id": "KaWUm2Dq9j5Y"
      }
    },
    {
      "cell_type": "code",
      "execution_count": 64,
      "metadata": {
        "colab": {
          "base_uri": "https://localhost:8080/"
        },
        "id": "6liIdlJM5eg8",
        "outputId": "bfda4a8e-5911-49af-c093-ff15b3e8c0ec"
      },
      "outputs": [
        {
          "output_type": "stream",
          "name": "stdout",
          "text": [
            "569\n"
          ]
        }
      ],
      "source": [
        "import pandas as pd\n",
        "import numpy as np\n",
        "import matplotlib.pyplot as plt\n",
        "from sklearn.model_selection import train_test_split\n",
        "from sklearn.neighbors import KNeighborsClassifier\n",
        "from sklearn.metrics import accuracy_score, confusion_matrix\n",
        "\n",
        "dataframe = pd.read_csv('/content/KNNAlgorithmDataset-1.csv')\n",
        "patientsCount, featuresCount = dataframe.shape\n",
        "print(patientsCount)"
      ]
    },
    {
      "cell_type": "markdown",
      "source": [
        "Number of benign and malignant cases"
      ],
      "metadata": {
        "id": "lniH7Nnb9tKU"
      }
    },
    {
      "cell_type": "code",
      "source": [
        "disease_categories = list(dataframe['diagnosis'].unique())\n",
        "\n",
        "malignant_filter = dataframe['diagnosis'] == disease_categories[0]\n",
        "benign_filter = dataframe['diagnosis'] == disease_categories[1]\n",
        "\n",
        "malignant_patients = dataframe[malignant_filter]\n",
        "benign_patients = dataframe[benign_filter]\n",
        "\n",
        "num_of_benign_cases = benign_patients.shape[0]\n",
        "num_of_malignant_cases = malignant_patients.shape[0]\n",
        "\n",
        "print(\"Number of benign cases recorded are: \", num_of_benign_cases)\n",
        "print(\"Number of malignant cases recorded are: \", num_of_malignant_cases)"
      ],
      "metadata": {
        "colab": {
          "base_uri": "https://localhost:8080/"
        },
        "id": "Jfwyg2I99zTN",
        "outputId": "cc614603-00e7-4462-ca5a-aaa60b11f560"
      },
      "execution_count": 27,
      "outputs": [
        {
          "output_type": "stream",
          "name": "stdout",
          "text": [
            "Number of benign cases recorded are:  357\n",
            "Number of malignant cases recorded are:  212\n"
          ]
        }
      ]
    },
    {
      "cell_type": "markdown",
      "source": [
        "Calculation of number of valid attributes"
      ],
      "metadata": {
        "id": "7auFnm7FEKdc"
      }
    },
    {
      "cell_type": "code",
      "source": [
        "featuresCount\n",
        "dataframe.info()\n",
        "# Line 1 & 2 results in a value: 33\n",
        "# But the last column is \"unnamed\"\n",
        "valid_features = dataframe.drop(columns=['Unnamed: 32']).shape[1] # For fetching column count\n",
        "valid_features"
      ],
      "metadata": {
        "colab": {
          "base_uri": "https://localhost:8080/"
        },
        "id": "FXv-yCTXDDaP",
        "outputId": "44cc0d70-0f05-4267-83e1-774c02e8b0e0"
      },
      "execution_count": 35,
      "outputs": [
        {
          "output_type": "stream",
          "name": "stdout",
          "text": [
            "<class 'pandas.core.frame.DataFrame'>\n",
            "RangeIndex: 569 entries, 0 to 568\n",
            "Data columns (total 33 columns):\n",
            " #   Column                   Non-Null Count  Dtype  \n",
            "---  ------                   --------------  -----  \n",
            " 0   id                       569 non-null    int64  \n",
            " 1   diagnosis                569 non-null    object \n",
            " 2   radius_mean              569 non-null    float64\n",
            " 3   texture_mean             569 non-null    float64\n",
            " 4   perimeter_mean           569 non-null    float64\n",
            " 5   area_mean                569 non-null    float64\n",
            " 6   smoothness_mean          569 non-null    float64\n",
            " 7   compactness_mean         569 non-null    float64\n",
            " 8   concavity_mean           569 non-null    float64\n",
            " 9   concave points_mean      569 non-null    float64\n",
            " 10  symmetry_mean            569 non-null    float64\n",
            " 11  fractal_dimension_mean   569 non-null    float64\n",
            " 12  radius_se                569 non-null    float64\n",
            " 13  texture_se               569 non-null    float64\n",
            " 14  perimeter_se             569 non-null    float64\n",
            " 15  area_se                  569 non-null    float64\n",
            " 16  smoothness_se            569 non-null    float64\n",
            " 17  compactness_se           569 non-null    float64\n",
            " 18  concavity_se             569 non-null    float64\n",
            " 19  concave points_se        569 non-null    float64\n",
            " 20  symmetry_se              569 non-null    float64\n",
            " 21  fractal_dimension_se     569 non-null    float64\n",
            " 22  radius_worst             569 non-null    float64\n",
            " 23  texture_worst            569 non-null    float64\n",
            " 24  perimeter_worst          569 non-null    float64\n",
            " 25  area_worst               569 non-null    float64\n",
            " 26  smoothness_worst         569 non-null    float64\n",
            " 27  compactness_worst        569 non-null    float64\n",
            " 28  concavity_worst          569 non-null    float64\n",
            " 29  concave points_worst     569 non-null    float64\n",
            " 30  symmetry_worst           569 non-null    float64\n",
            " 31  fractal_dimension_worst  569 non-null    float64\n",
            " 32  Unnamed: 32              0 non-null      float64\n",
            "dtypes: float64(31), int64(1), object(1)\n",
            "memory usage: 146.8+ KB\n"
          ]
        },
        {
          "output_type": "execute_result",
          "data": {
            "text/plain": [
              "32"
            ]
          },
          "metadata": {},
          "execution_count": 35
        }
      ]
    },
    {
      "cell_type": "markdown",
      "source": [
        "Q2. Fill in the blanks.\n",
        "\n",
        " Determine the K value using the square root method. Enter the K value into your program.\n",
        "Apply K-Nearest Neighbor.\n",
        "Use testing and training validation (random sampling), setting the training set to 70% (30% testing set).\n",
        "Keep data unbalanced.\n",
        "Do not standardize or normalize the dataset.\n",
        "Answer the following based on your results."
      ],
      "metadata": {
        "id": "TH18NwtxH0kj"
      }
    },
    {
      "cell_type": "code",
      "source": [
        "k_value = int(np.sqrt(patientsCount))\n",
        "print(k_value)"
      ],
      "metadata": {
        "colab": {
          "base_uri": "https://localhost:8080/"
        },
        "id": "d-4jwO9PIptU",
        "outputId": "60c79e5e-ebb6-4f48-8bf9-446e40a663ff"
      },
      "execution_count": 36,
      "outputs": [
        {
          "output_type": "stream",
          "name": "stdout",
          "text": [
            "23\n"
          ]
        }
      ]
    },
    {
      "cell_type": "code",
      "source": [
        "cleaned_dataframe = dataframe.drop(columns=['Unnamed: 32'])\n",
        "X = cleaned_dataframe.drop(columns=['id', 'diagnosis'])\n",
        "y = cleaned_dataframe['diagnosis']\n",
        "\n",
        "# Splitting dataset into 70% training and 30% testing\n",
        "X_train, X_test, y_train, y_test = train_test_split(X, y, test_size=0.3, random_state=42)\n",
        "\n",
        "# K-Nearest Neighbors classifier\n",
        "knn = KNeighborsClassifier(n_neighbors=k_value)\n",
        "knn.fit(X_train, y_train)\n",
        "y_pred = knn.predict(X_test)\n",
        "\n",
        "# Calculate accuracy\n",
        "accuracy = accuracy_score(y_test, y_pred) * 100\n",
        "misclassifications = (y_test != y_pred).sum()\n",
        "\n",
        "k_value, int(accuracy), misclassifications"
      ],
      "metadata": {
        "colab": {
          "base_uri": "https://localhost:8080/"
        },
        "id": "W9xXVTkhI28U",
        "outputId": "e07cc715-7508-4c7b-fc8a-008418e1f005"
      },
      "execution_count": 79,
      "outputs": [
        {
          "output_type": "execute_result",
          "data": {
            "text/plain": [
              "(23, 95, 8)"
            ]
          },
          "metadata": {},
          "execution_count": 79
        }
      ]
    },
    {
      "cell_type": "markdown",
      "source": [
        "Q3. Fill in the blanks\n",
        "\n",
        "Determine the K value using the error plot Enter the K value into your program.\n",
        "Apply K-Nearest Neighbor.\n",
        "Use testing and training validation (random sampling), setting the training set to 70% (30% testing set).\n",
        "Keep data unbalanced.\n",
        "Do not standardize or normalize the dataset.\n",
        "Answer the following based on your results."
      ],
      "metadata": {
        "id": "r3bJGWFae2ts"
      }
    },
    {
      "cell_type": "code",
      "source": [
        "import matplotlib.pyplot as plt\n",
        "from sklearn.model_selection import train_test_split\n",
        "from sklearn.neighbors import KNeighborsClassifier\n",
        "\n",
        "\n",
        "error_rate = []\n",
        "\n",
        "\n",
        "for k in range(1, 40):\n",
        "\n",
        "    knn = KNeighborsClassifier(n_neighbors=k)\n",
        "\n",
        "    # Train the KNN model\n",
        "    knn.fit(X.drop(columns=['id', 'Unnamed: 32']), y)\n",
        "\n",
        "\n",
        "    y_pred = knn.predict(X.drop(columns=['id', 'Unnamed: 32']))\n",
        "\n",
        "    # Calculate the error rate\n",
        "    error_rate.append(np.mean(y_pred != y))\n",
        "\n",
        "# Plot\n",
        "plt.figure(figsize=(10, 6))\n",
        "plt.plot(range(1, 40), error_rate, color='blue', linestyle='dashed', marker='o', markersize=5)\n",
        "plt.title('Elbow Plot for K-Nearest Neighbors')\n",
        "plt.xlabel('K Value')\n",
        "plt.ylabel('Error Rate')\n",
        "plt.grid(True)\n",
        "plt.show()\n"
      ],
      "metadata": {
        "colab": {
          "base_uri": "https://localhost:8080/",
          "height": 564
        },
        "id": "StmDxKCye9y-",
        "outputId": "93b7fa09-291d-4f34-a430-817c6f30f4cb"
      },
      "execution_count": 72,
      "outputs": [
        {
          "output_type": "display_data",
          "data": {
            "text/plain": [
              "<Figure size 1000x600 with 1 Axes>"
            ],
            "image/png": "[encoded data removed]"
          },
          "metadata": {}
        }
      ]
    },
    {
      "cell_type": "code",
      "source": [
        "# Calculate accuracy\n",
        "accuracy = accuracy_score(y_test, y_pred) * 100\n",
        "print(\"Accuracy: \", accuracy)"
      ],
      "metadata": {
        "colab": {
          "base_uri": "https://localhost:8080/"
        },
        "id": "R-bKKvDWqubA",
        "outputId": "5f310f6e-1c30-4605-eac0-f913649b0e3b"
      },
      "execution_count": 80,
      "outputs": [
        {
          "output_type": "stream",
          "name": "stdout",
          "text": [
            "Accuracy:  95.32163742690058\n"
          ]
        }
      ]
    },
    {
      "cell_type": "code",
      "source": [
        "misclassifications = (y_test != y_pred).sum()\n",
        "print(\"Number of misclassifications:\", misclassifications)"
      ],
      "metadata": {
        "colab": {
          "base_uri": "https://localhost:8080/"
        },
        "id": "li2e7BwqsAt-",
        "outputId": "89891ce0-dc92-42cf-e049-80429997ffc7"
      },
      "execution_count": 82,
      "outputs": [
        {
          "output_type": "stream",
          "name": "stdout",
          "text": [
            "Number of misclassifications: 8\n"
          ]
        }
      ]
    }
  ]
}